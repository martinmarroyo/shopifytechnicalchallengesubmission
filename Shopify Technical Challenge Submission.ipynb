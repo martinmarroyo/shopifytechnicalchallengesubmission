{
 "cells": [
  {
   "cell_type": "markdown",
   "id": "d4cdd2ab",
   "metadata": {},
   "source": [
    "# Winter 2022 Data Science Intern Challenge\n",
    "\n",
    "Please complete the following questions, and provide your thought process/work. You can attach your work in a text file, link, etc. on the application page. Please ensure answers are easily visible for reviewers!"
   ]
  },
  {
   "cell_type": "code",
   "execution_count": 1,
   "id": "3b4dd04a",
   "metadata": {},
   "outputs": [],
   "source": [
    "import pandas as pd\n",
    "import matplotlib.pyplot as plt"
   ]
  },
  {
   "cell_type": "markdown",
   "id": "da6e4fa7",
   "metadata": {},
   "source": [
    "**Question 1**: Given some sample data, write a program to answer the following:\n",
    "\n",
    "On Shopify, we have exactly 100 sneaker shops, and each of these shops sells only one model of shoe. We want to do some analysis of the average order value (AOV). When we look at orders data over a 30 day window, we naively calculate an AOV of $3145.13. Given that we know these shops are selling sneakers, a relatively affordable item, something seems wrong with our analysis. \n",
    "\n",
    "Think about what could be going wrong with our calculation. Think about a better way to evaluate this data. \n",
    "- What metric would you report for this dataset?\n",
    "- What is its value?\n"
   ]
  },
  {
   "cell_type": "markdown",
   "id": "ae38de16",
   "metadata": {},
   "source": [
    "## First, let's take a quick look at the data..."
   ]
  },
  {
   "cell_type": "code",
   "execution_count": 2,
   "id": "5dc239ed",
   "metadata": {},
   "outputs": [
    {
     "data": {
      "text/html": [
       "<div>\n",
       "<style scoped>\n",
       "    .dataframe tbody tr th:only-of-type {\n",
       "        vertical-align: middle;\n",
       "    }\n",
       "\n",
       "    .dataframe tbody tr th {\n",
       "        vertical-align: top;\n",
       "    }\n",
       "\n",
       "    .dataframe thead th {\n",
       "        text-align: right;\n",
       "    }\n",
       "</style>\n",
       "<table border=\"1\" class=\"dataframe\">\n",
       "  <thead>\n",
       "    <tr style=\"text-align: right;\">\n",
       "      <th></th>\n",
       "      <th>order_id</th>\n",
       "      <th>shop_id</th>\n",
       "      <th>user_id</th>\n",
       "      <th>order_amount</th>\n",
       "      <th>total_items</th>\n",
       "      <th>payment_method</th>\n",
       "      <th>created_at</th>\n",
       "    </tr>\n",
       "  </thead>\n",
       "  <tbody>\n",
       "    <tr>\n",
       "      <th>0</th>\n",
       "      <td>1</td>\n",
       "      <td>53</td>\n",
       "      <td>746</td>\n",
       "      <td>224</td>\n",
       "      <td>2</td>\n",
       "      <td>cash</td>\n",
       "      <td>2017-03-13 12:36:56</td>\n",
       "    </tr>\n",
       "    <tr>\n",
       "      <th>1</th>\n",
       "      <td>2</td>\n",
       "      <td>92</td>\n",
       "      <td>925</td>\n",
       "      <td>90</td>\n",
       "      <td>1</td>\n",
       "      <td>cash</td>\n",
       "      <td>2017-03-03 17:38:52</td>\n",
       "    </tr>\n",
       "    <tr>\n",
       "      <th>2</th>\n",
       "      <td>3</td>\n",
       "      <td>44</td>\n",
       "      <td>861</td>\n",
       "      <td>144</td>\n",
       "      <td>1</td>\n",
       "      <td>cash</td>\n",
       "      <td>2017-03-14 4:23:56</td>\n",
       "    </tr>\n",
       "    <tr>\n",
       "      <th>3</th>\n",
       "      <td>4</td>\n",
       "      <td>18</td>\n",
       "      <td>935</td>\n",
       "      <td>156</td>\n",
       "      <td>1</td>\n",
       "      <td>credit_card</td>\n",
       "      <td>2017-03-26 12:43:37</td>\n",
       "    </tr>\n",
       "    <tr>\n",
       "      <th>4</th>\n",
       "      <td>5</td>\n",
       "      <td>18</td>\n",
       "      <td>883</td>\n",
       "      <td>156</td>\n",
       "      <td>1</td>\n",
       "      <td>credit_card</td>\n",
       "      <td>2017-03-01 4:35:11</td>\n",
       "    </tr>\n",
       "  </tbody>\n",
       "</table>\n",
       "</div>"
      ],
      "text/plain": [
       "   order_id  shop_id  user_id  order_amount  total_items payment_method  \\\n",
       "0         1       53      746           224            2           cash   \n",
       "1         2       92      925            90            1           cash   \n",
       "2         3       44      861           144            1           cash   \n",
       "3         4       18      935           156            1    credit_card   \n",
       "4         5       18      883           156            1    credit_card   \n",
       "\n",
       "            created_at  \n",
       "0  2017-03-13 12:36:56  \n",
       "1  2017-03-03 17:38:52  \n",
       "2   2017-03-14 4:23:56  \n",
       "3  2017-03-26 12:43:37  \n",
       "4   2017-03-01 4:35:11  "
      ]
     },
     "execution_count": 2,
     "metadata": {},
     "output_type": "execute_result"
    }
   ],
   "source": [
    "df = pd.read_csv(\"C:\\\\Users\\\\Martin\\\\Downloads\\\\2019 Winter Data Science Intern Challenge Data Set - Sheet1.csv\")\n",
    "\n",
    "df.head()"
   ]
  },
  {
   "cell_type": "markdown",
   "id": "6f01bebc",
   "metadata": {},
   "source": [
    "I'm assuming that, when calculating the average order value (AOV), only the `order_amount` column was considered. I'll confirm this assertion below."
   ]
  },
  {
   "cell_type": "code",
   "execution_count": 3,
   "id": "1543bba2",
   "metadata": {},
   "outputs": [
    {
     "data": {
      "text/plain": [
       "3145.128"
      ]
     },
     "execution_count": 3,
     "metadata": {},
     "output_type": "execute_result"
    }
   ],
   "source": [
    "df.order_amount.mean()"
   ]
  },
  {
   "cell_type": "markdown",
   "id": "6aa4b2c0",
   "metadata": {},
   "source": [
    "As I suspected, the calculation was based solely on the `order_amount` column. Let's see what the data looks like and if some order amounts are skewing the distribution."
   ]
  },
  {
   "cell_type": "code",
   "execution_count": 4,
   "id": "8a1a8234",
   "metadata": {},
   "outputs": [
    {
     "data": {
      "text/html": [
       "<div>\n",
       "<style scoped>\n",
       "    .dataframe tbody tr th:only-of-type {\n",
       "        vertical-align: middle;\n",
       "    }\n",
       "\n",
       "    .dataframe tbody tr th {\n",
       "        vertical-align: top;\n",
       "    }\n",
       "\n",
       "    .dataframe thead th {\n",
       "        text-align: right;\n",
       "    }\n",
       "</style>\n",
       "<table border=\"1\" class=\"dataframe\">\n",
       "  <thead>\n",
       "    <tr style=\"text-align: right;\">\n",
       "      <th></th>\n",
       "      <th>order_id</th>\n",
       "      <th>shop_id</th>\n",
       "      <th>user_id</th>\n",
       "      <th>order_amount</th>\n",
       "      <th>total_items</th>\n",
       "    </tr>\n",
       "  </thead>\n",
       "  <tbody>\n",
       "    <tr>\n",
       "      <th>count</th>\n",
       "      <td>5000.000000</td>\n",
       "      <td>5000.000000</td>\n",
       "      <td>5000.000000</td>\n",
       "      <td>5000.000000</td>\n",
       "      <td>5000.00000</td>\n",
       "    </tr>\n",
       "    <tr>\n",
       "      <th>mean</th>\n",
       "      <td>2500.500000</td>\n",
       "      <td>50.078800</td>\n",
       "      <td>849.092400</td>\n",
       "      <td>3145.128000</td>\n",
       "      <td>8.78720</td>\n",
       "    </tr>\n",
       "    <tr>\n",
       "      <th>std</th>\n",
       "      <td>1443.520003</td>\n",
       "      <td>29.006118</td>\n",
       "      <td>87.798982</td>\n",
       "      <td>41282.539349</td>\n",
       "      <td>116.32032</td>\n",
       "    </tr>\n",
       "    <tr>\n",
       "      <th>min</th>\n",
       "      <td>1.000000</td>\n",
       "      <td>1.000000</td>\n",
       "      <td>607.000000</td>\n",
       "      <td>90.000000</td>\n",
       "      <td>1.00000</td>\n",
       "    </tr>\n",
       "    <tr>\n",
       "      <th>25%</th>\n",
       "      <td>1250.750000</td>\n",
       "      <td>24.000000</td>\n",
       "      <td>775.000000</td>\n",
       "      <td>163.000000</td>\n",
       "      <td>1.00000</td>\n",
       "    </tr>\n",
       "    <tr>\n",
       "      <th>50%</th>\n",
       "      <td>2500.500000</td>\n",
       "      <td>50.000000</td>\n",
       "      <td>849.000000</td>\n",
       "      <td>284.000000</td>\n",
       "      <td>2.00000</td>\n",
       "    </tr>\n",
       "    <tr>\n",
       "      <th>75%</th>\n",
       "      <td>3750.250000</td>\n",
       "      <td>75.000000</td>\n",
       "      <td>925.000000</td>\n",
       "      <td>390.000000</td>\n",
       "      <td>3.00000</td>\n",
       "    </tr>\n",
       "    <tr>\n",
       "      <th>max</th>\n",
       "      <td>5000.000000</td>\n",
       "      <td>100.000000</td>\n",
       "      <td>999.000000</td>\n",
       "      <td>704000.000000</td>\n",
       "      <td>2000.00000</td>\n",
       "    </tr>\n",
       "  </tbody>\n",
       "</table>\n",
       "</div>"
      ],
      "text/plain": [
       "          order_id      shop_id      user_id   order_amount  total_items\n",
       "count  5000.000000  5000.000000  5000.000000    5000.000000   5000.00000\n",
       "mean   2500.500000    50.078800   849.092400    3145.128000      8.78720\n",
       "std    1443.520003    29.006118    87.798982   41282.539349    116.32032\n",
       "min       1.000000     1.000000   607.000000      90.000000      1.00000\n",
       "25%    1250.750000    24.000000   775.000000     163.000000      1.00000\n",
       "50%    2500.500000    50.000000   849.000000     284.000000      2.00000\n",
       "75%    3750.250000    75.000000   925.000000     390.000000      3.00000\n",
       "max    5000.000000   100.000000   999.000000  704000.000000   2000.00000"
      ]
     },
     "execution_count": 4,
     "metadata": {},
     "output_type": "execute_result"
    }
   ],
   "source": [
    "df.describe()"
   ]
  },
  {
   "cell_type": "code",
   "execution_count": 5,
   "id": "4c35d47f",
   "metadata": {},
   "outputs": [
    {
     "data": {
      "text/plain": [
       "<AxesSubplot:>"
      ]
     },
     "execution_count": 5,
     "metadata": {},
     "output_type": "execute_result"
    },
    {
     "data": {
      "image/png": "[encoded data removed]",
      "text/plain": [
       "<Figure size 432x288 with 1 Axes>"
      ]
     },
     "metadata": {
      "needs_background": "light"
     },
     "output_type": "display_data"
    }
   ],
   "source": [
    "df.order_amount.plot.box()"
   ]
  },
  {
   "cell_type": "markdown",
   "id": "97533c32",
   "metadata": {},
   "source": [
    "## Now, let's do some calculations...\n",
    "\n",
    "We can see here that there is at least one order with a total of \\\\$704,000. As shown by the box plot above, this outlier skews our average to the right. Since we are looking to consider a central measure with respect to `order_amount` it would be more accurate to look at the median in this case which, according to our summary above, is **$284.00**. \n",
    "\n",
    "However, I think that only tells part of the story. I would also consider the average cost per sneaker sold during this time period. To find this, we would find the average cost per item per order (`order_amount / total_items`), and find the average of that amount across all stores in the 30-day window."
   ]
  },
  {
   "cell_type": "markdown",
   "id": "e93fdf04",
   "metadata": {},
   "source": [
    "Now, we'll find the average cost per item in each order:"
   ]
  },
  {
   "cell_type": "code",
   "execution_count": 6,
   "id": "66e99899",
   "metadata": {},
   "outputs": [
    {
     "data": {
      "text/plain": [
       "387.7428"
      ]
     },
     "execution_count": 6,
     "metadata": {},
     "output_type": "execute_result"
    }
   ],
   "source": [
    "df.apply(lambda x: x.order_amount/x.total_items,axis='columns').mean()"
   ]
  },
  {
   "cell_type": "markdown",
   "id": "6cd51de1",
   "metadata": {},
   "source": [
    "## Let's take a look at our results\n",
    "\n",
    "As noted before, we found that our median `order_amount` was **\\\\$284.00**, and our average cost per item in each order was **$387.74**. Both numbers tell a different part of the whole story here. \n",
    "\n",
    "Our median tells us that half of the `order_amount`s were less than or equal to $284 and half were greater. We can also see, using the median `total_items`, that there are more or less **2 items per order**. This tells us the story of the general performance of sneaker shops during this time period.  \n",
    "\n",
    "On the other hand, we obviously have some stores that performed really well during this time period. Since each store sells only one model of sneaker, the average cost per item per order (**$387.74 per sneaker**) shows us that those stores did really well compared to the rest during this period.\n",
    "\n",
    "To get a clearer picture on average order values, we could  that also look at our quartile ranges. Let's see the summary statistics again.\n"
   ]
  },
  {
   "cell_type": "code",
   "execution_count": 7,
   "id": "d07dd0ec",
   "metadata": {},
   "outputs": [
    {
     "data": {
      "text/html": [
       "<div>\n",
       "<style scoped>\n",
       "    .dataframe tbody tr th:only-of-type {\n",
       "        vertical-align: middle;\n",
       "    }\n",
       "\n",
       "    .dataframe tbody tr th {\n",
       "        vertical-align: top;\n",
       "    }\n",
       "\n",
       "    .dataframe thead th {\n",
       "        text-align: right;\n",
       "    }\n",
       "</style>\n",
       "<table border=\"1\" class=\"dataframe\">\n",
       "  <thead>\n",
       "    <tr style=\"text-align: right;\">\n",
       "      <th></th>\n",
       "      <th>order_id</th>\n",
       "      <th>shop_id</th>\n",
       "      <th>user_id</th>\n",
       "      <th>order_amount</th>\n",
       "      <th>total_items</th>\n",
       "    </tr>\n",
       "  </thead>\n",
       "  <tbody>\n",
       "    <tr>\n",
       "      <th>count</th>\n",
       "      <td>5000.000000</td>\n",
       "      <td>5000.000000</td>\n",
       "      <td>5000.000000</td>\n",
       "      <td>5000.000000</td>\n",
       "      <td>5000.00000</td>\n",
       "    </tr>\n",
       "    <tr>\n",
       "      <th>mean</th>\n",
       "      <td>2500.500000</td>\n",
       "      <td>50.078800</td>\n",
       "      <td>849.092400</td>\n",
       "      <td>3145.128000</td>\n",
       "      <td>8.78720</td>\n",
       "    </tr>\n",
       "    <tr>\n",
       "      <th>std</th>\n",
       "      <td>1443.520003</td>\n",
       "      <td>29.006118</td>\n",
       "      <td>87.798982</td>\n",
       "      <td>41282.539349</td>\n",
       "      <td>116.32032</td>\n",
       "    </tr>\n",
       "    <tr>\n",
       "      <th>min</th>\n",
       "      <td>1.000000</td>\n",
       "      <td>1.000000</td>\n",
       "      <td>607.000000</td>\n",
       "      <td>90.000000</td>\n",
       "      <td>1.00000</td>\n",
       "    </tr>\n",
       "    <tr>\n",
       "      <th>25%</th>\n",
       "      <td>1250.750000</td>\n",
       "      <td>24.000000</td>\n",
       "      <td>775.000000</td>\n",
       "      <td>163.000000</td>\n",
       "      <td>1.00000</td>\n",
       "    </tr>\n",
       "    <tr>\n",
       "      <th>50%</th>\n",
       "      <td>2500.500000</td>\n",
       "      <td>50.000000</td>\n",
       "      <td>849.000000</td>\n",
       "      <td>284.000000</td>\n",
       "      <td>2.00000</td>\n",
       "    </tr>\n",
       "    <tr>\n",
       "      <th>75%</th>\n",
       "      <td>3750.250000</td>\n",
       "      <td>75.000000</td>\n",
       "      <td>925.000000</td>\n",
       "      <td>390.000000</td>\n",
       "      <td>3.00000</td>\n",
       "    </tr>\n",
       "    <tr>\n",
       "      <th>max</th>\n",
       "      <td>5000.000000</td>\n",
       "      <td>100.000000</td>\n",
       "      <td>999.000000</td>\n",
       "      <td>704000.000000</td>\n",
       "      <td>2000.00000</td>\n",
       "    </tr>\n",
       "  </tbody>\n",
       "</table>\n",
       "</div>"
      ],
      "text/plain": [
       "          order_id      shop_id      user_id   order_amount  total_items\n",
       "count  5000.000000  5000.000000  5000.000000    5000.000000   5000.00000\n",
       "mean   2500.500000    50.078800   849.092400    3145.128000      8.78720\n",
       "std    1443.520003    29.006118    87.798982   41282.539349    116.32032\n",
       "min       1.000000     1.000000   607.000000      90.000000      1.00000\n",
       "25%    1250.750000    24.000000   775.000000     163.000000      1.00000\n",
       "50%    2500.500000    50.000000   849.000000     284.000000      2.00000\n",
       "75%    3750.250000    75.000000   925.000000     390.000000      3.00000\n",
       "max    5000.000000   100.000000   999.000000  704000.000000   2000.00000"
      ]
     },
     "execution_count": 7,
     "metadata": {},
     "output_type": "execute_result"
    }
   ],
   "source": [
    "df.describe()"
   ]
  },
  {
   "cell_type": "markdown",
   "id": "a820993a",
   "metadata": {},
   "source": [
    "Looking at the quartile ranges, we can see that **75%** of order totals per store during this period were between **\\\\$90** and **$390** with **1 to 3 items per order**."
   ]
  },
  {
   "cell_type": "markdown",
   "id": "ec4cc790",
   "metadata": {},
   "source": [
    "## Conclusion for Question 1\n",
    "\n",
    "For this analysis, I would use **the median (\\\\$284)** and the **average cost per sneaker per order ($387.74)** to tell a more complete story about sneaker store sales during this 30-day window. The story seems to be that stores that sold more expensive sneakers, on average, sold more sneakers and performed better than stores selling less expensive sneakers during this period.\n",
    "\n",
    "---"
   ]
  },
  {
   "cell_type": "markdown",
   "id": "6c539c9e",
   "metadata": {},
   "source": [
    "## Now, on to Question 2\n",
    "\n",
    "**Question 2**: For this question you’ll need to use SQL. [Follow this link](https://www.w3schools.com/SQL/TRYSQL.ASP?FILENAME=TRYSQL_SELECT_ALL) to access the data set required for the challenge. Please use queries to answer the following questions. Paste your queries along with your final numerical answers below.\n",
    "\n",
    "- How many orders were shipped by Speedy Express in total?\n",
    "- What is the last name of the employee with the most orders?\n",
    "- What product was ordered the most by customers in Germany?\n",
    "\n"
   ]
  },
  {
   "cell_type": "markdown",
   "id": "c87bad84",
   "metadata": {},
   "source": [
    "### How many orders were shipped by Speedy Express in total?\n",
    "\n",
    "`SELECT COUNT(DISTINCT O.orderid) AS \"Total Orders By Speedy Express\"\n",
    "FROM Orders O\n",
    "INNER JOIN Shippers S\n",
    "ON O.shipperid=S.shipperid AND S.shippername='Speedy Express';`\n",
    "\n",
    "There were a total of 54 orders shipped by Speedy Express."
   ]
  },
  {
   "cell_type": "markdown",
   "id": "dc14bc6d",
   "metadata": {},
   "source": [
    "### What is the last name of the employee with the most orders?\n",
    "\n",
    "`WITH employee_order_counts AS (\n",
    "\tSELECT\n",
    "    \tE.employeeid,\n",
    "    \tE.lastname,\n",
    "        COUNT(O.orderid) AS total_orders\n",
    "    FROM Orders O\n",
    "    INNER JOIN Employees E\n",
    "    ON O.employeeid=E.employeeid\n",
    "\tGROUP BY E.employeeid, E.lastName\n",
    ")\n",
    "SELECT lastname, total_orders\n",
    "FROM employee_order_counts\n",
    "ORDER BY total_orders DESC\n",
    "LIMIT 1;`\n",
    "\n",
    "The last name of the employee with the most orders is Peacock who has 40 orders."
   ]
  },
  {
   "cell_type": "markdown",
   "id": "9152b3f0",
   "metadata": {},
   "source": [
    "### What product was ordered the most by customers in Germany?\n",
    "\n",
    "`WITH orders_from_germany AS(\n",
    "\tSELECT\n",
    "    \tOD.productid,\n",
    "        P.ProductName,\n",
    "        SUM(OD.quantity) AS total_product_orders\n",
    "    FROM Customers C\n",
    "    INNER JOIN Orders O\n",
    "    ON C.customerid = O.customerid\n",
    "    INNER JOIN OrderDetails OD\n",
    "    ON O.orderid = OD.orderid\n",
    "    INNER JOIN Products P\n",
    "    ON OD.productid = P.productid\n",
    "    WHERE C.country='Germany'\n",
    "    GROUP BY OD.productid, P.ProductName\n",
    ")\n",
    "SELECT productname, total_product_orders \n",
    "FROM orders_from_germany\n",
    "ORDER BY total_product_orders DESC\n",
    "LIMIT 1;`\n",
    "\n",
    "The product ordered the most by customers in Germany was Boston Crab Meat with 160 total orders."
   ]
  }
 ],
 "metadata": {
  "kernelspec": {
   "display_name": "Python 3",
   "language": "python",
   "name": "python3"
  },
  "language_info": {
   "codemirror_mode": {
    "name": "ipython",
    "version": 3
   },
   "file_extension": ".py",
   "mimetype": "text/x-python",
   "name": "python",
   "nbconvert_exporter": "python",
   "pygments_lexer": "ipython3",
   "version": "3.8.8"
  }
 },
 "nbformat": 4,
 "nbformat_minor": 5
}
